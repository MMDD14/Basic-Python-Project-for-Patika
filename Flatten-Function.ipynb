{
 "cells": [
  {
   "cell_type": "code",
   "execution_count": 2,
   "metadata": {},
   "outputs": [
    {
     "name": "stdout",
     "output_type": "stream",
     "text": [
      "[1, 'a', 'cat', 2, 3, 'dog', 4, 5]\n"
     ]
    }
   ],
   "source": [
    "def flatten(l):\n",
    "    lf=[]\n",
    "    for i in range(len(l)):\n",
    "        if type(l[i])!=list:\n",
    "            lf.append(l[i])\n",
    "        else:\n",
    "            for j in range(len(l[i])):\n",
    "                lf.append(l[i][j])\n",
    "    l=l.clear()\n",
    "    l=lf.copy()\n",
    "    lf.clear()\n",
    "    for k in range(len(l)):\n",
    "        if type(l[k])==list:\n",
    "            return flatten(l)\n",
    "        else:\n",
    "            continue\n",
    "    return l\n",
    "\n",
    "l1=[[1,'a',['cat'],2],[[[[[3]]]],'dog'],4,5]\n",
    "print(flatten(l1))"
   ]
  }
 ],
 "metadata": {
  "interpreter": {
   "hash": "ee37ddbbde7c6e51ee8224e45782e3fd2812df63377386bdd02b408410e06866"
  },
  "kernelspec": {
   "display_name": "Python 3.10.4 64-bit",
   "language": "python",
   "name": "python3"
  },
  "language_info": {
   "codemirror_mode": {
    "name": "ipython",
    "version": 3
   },
   "file_extension": ".py",
   "mimetype": "text/x-python",
   "name": "python",
   "nbconvert_exporter": "python",
   "pygments_lexer": "ipython3",
   "version": "3.10.4"
  },
  "orig_nbformat": 4
 },
 "nbformat": 4,
 "nbformat_minor": 2
}
