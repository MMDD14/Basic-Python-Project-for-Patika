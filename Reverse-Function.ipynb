{
 "cells": [
  {
   "cell_type": "code",
   "execution_count": 2,
   "metadata": {},
   "outputs": [
    {
     "name": "stdout",
     "output_type": "stream",
     "text": [
      "[[[7, 6], 5], [[4], 3], [2, 1]]\n"
     ]
    }
   ],
   "source": [
    "def rvrs(l1):\n",
    "    l1.reverse()\n",
    "    for i in range(len(l1)):\n",
    "        if type(l1[i])==list:\n",
    "            rvrs(l1[i])\n",
    "        else:\n",
    "            continue\n",
    "    return l1\n",
    "\n",
    "l=[[1, 2], [3, [4]], [5, [6, 7]]]\n",
    "print(rvrs(l))\n"
   ]
  }
 ],
 "metadata": {
  "interpreter": {
   "hash": "ee37ddbbde7c6e51ee8224e45782e3fd2812df63377386bdd02b408410e06866"
  },
  "kernelspec": {
   "display_name": "Python 3.10.4 64-bit",
   "language": "python",
   "name": "python3"
  },
  "language_info": {
   "codemirror_mode": {
    "name": "ipython",
    "version": 3
   },
   "file_extension": ".py",
   "mimetype": "text/x-python",
   "name": "python",
   "nbconvert_exporter": "python",
   "pygments_lexer": "ipython3",
   "version": "3.10.4"
  },
  "orig_nbformat": 4
 },
 "nbformat": 4,
 "nbformat_minor": 2
}
